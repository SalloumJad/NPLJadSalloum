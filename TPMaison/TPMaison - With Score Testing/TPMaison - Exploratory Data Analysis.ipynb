{
 "cells": [
  {
   "cell_type": "code",
   "execution_count": 3,
   "id": "7b5ba953",
   "metadata": {},
   "outputs": [],
   "source": [
    "import pandas as pd\n",
    "import spacy\n",
    "import matplotlib.pyplot as plt"
   ]
  },
  {
   "cell_type": "code",
   "execution_count": 4,
   "id": "0a6bbcd7",
   "metadata": {},
   "outputs": [
    {
     "data": {
      "text/html": [
       "<div>\n",
       "<style scoped>\n",
       "    .dataframe tbody tr th:only-of-type {\n",
       "        vertical-align: middle;\n",
       "    }\n",
       "\n",
       "    .dataframe tbody tr th {\n",
       "        vertical-align: top;\n",
       "    }\n",
       "\n",
       "    .dataframe thead th {\n",
       "        text-align: right;\n",
       "    }\n",
       "</style>\n",
       "<table border=\"1\" class=\"dataframe\">\n",
       "  <thead>\n",
       "    <tr style=\"text-align: right;\">\n",
       "      <th></th>\n",
       "      <th>id</th>\n",
       "      <th>keyword</th>\n",
       "      <th>location</th>\n",
       "      <th>text</th>\n",
       "      <th>target</th>\n",
       "    </tr>\n",
       "  </thead>\n",
       "  <tbody>\n",
       "    <tr>\n",
       "      <th>6625</th>\n",
       "      <td>9489</td>\n",
       "      <td>terrorism</td>\n",
       "      <td>NaN</td>\n",
       "      <td>Online Homeland security: An Appraisal of #Pak...</td>\n",
       "      <td>0</td>\n",
       "    </tr>\n",
       "    <tr>\n",
       "      <th>7130</th>\n",
       "      <td>10213</td>\n",
       "      <td>volcano</td>\n",
       "      <td>NaN</td>\n",
       "      <td>Maailiss: Diaporama : sixpenceee: Karymsky Lak...</td>\n",
       "      <td>0</td>\n",
       "    </tr>\n",
       "    <tr>\n",
       "      <th>2853</th>\n",
       "      <td>4100</td>\n",
       "      <td>drought</td>\n",
       "      <td>NaN</td>\n",
       "      <td>U.S. in record hurricane drought http://t.co/8...</td>\n",
       "      <td>1</td>\n",
       "    </tr>\n",
       "    <tr>\n",
       "      <th>4380</th>\n",
       "      <td>6222</td>\n",
       "      <td>hijacker</td>\n",
       "      <td>Fresno, California</td>\n",
       "      <td>Governor allows parole for California school b...</td>\n",
       "      <td>1</td>\n",
       "    </tr>\n",
       "    <tr>\n",
       "      <th>2179</th>\n",
       "      <td>3123</td>\n",
       "      <td>debris</td>\n",
       "      <td>Seattle</td>\n",
       "      <td>#love #food #fun Malaysian Prime Minister Naji...</td>\n",
       "      <td>1</td>\n",
       "    </tr>\n",
       "    <tr>\n",
       "      <th>6932</th>\n",
       "      <td>9942</td>\n",
       "      <td>trouble</td>\n",
       "      <td>NaN</td>\n",
       "      <td>@_charleyisqueen Yeah well maybe if the barber...</td>\n",
       "      <td>0</td>\n",
       "    </tr>\n",
       "    <tr>\n",
       "      <th>886</th>\n",
       "      <td>1282</td>\n",
       "      <td>bloody</td>\n",
       "      <td>Malaysia</td>\n",
       "      <td>aggressif is so bloody aggressive</td>\n",
       "      <td>0</td>\n",
       "    </tr>\n",
       "    <tr>\n",
       "      <th>5665</th>\n",
       "      <td>8084</td>\n",
       "      <td>rescue</td>\n",
       "      <td>Toronto, Ontario</td>\n",
       "      <td>UD: Rescue (Structural Collapse) - Scott Road ...</td>\n",
       "      <td>1</td>\n",
       "    </tr>\n",
       "    <tr>\n",
       "      <th>2796</th>\n",
       "      <td>4022</td>\n",
       "      <td>disaster</td>\n",
       "      <td>Philadelphia, PA USA</td>\n",
       "      <td>DISASTER AVERTED: Police kill gunman with 'hoa...</td>\n",
       "      <td>1</td>\n",
       "    </tr>\n",
       "    <tr>\n",
       "      <th>3575</th>\n",
       "      <td>5107</td>\n",
       "      <td>famine</td>\n",
       "      <td>Chatham, IL</td>\n",
       "      <td>Images of Famine ÛÒ Hope In Christ - A blog o...</td>\n",
       "      <td>1</td>\n",
       "    </tr>\n",
       "  </tbody>\n",
       "</table>\n",
       "</div>"
      ],
      "text/plain": [
       "         id    keyword              location  \\\n",
       "6625   9489  terrorism                   NaN   \n",
       "7130  10213    volcano                   NaN   \n",
       "2853   4100    drought                   NaN   \n",
       "4380   6222   hijacker    Fresno, California   \n",
       "2179   3123     debris               Seattle   \n",
       "6932   9942    trouble                   NaN   \n",
       "886    1282     bloody              Malaysia   \n",
       "5665   8084     rescue      Toronto, Ontario   \n",
       "2796   4022   disaster  Philadelphia, PA USA   \n",
       "3575   5107     famine           Chatham, IL   \n",
       "\n",
       "                                                   text  target  \n",
       "6625  Online Homeland security: An Appraisal of #Pak...       0  \n",
       "7130  Maailiss: Diaporama : sixpenceee: Karymsky Lak...       0  \n",
       "2853  U.S. in record hurricane drought http://t.co/8...       1  \n",
       "4380  Governor allows parole for California school b...       1  \n",
       "2179  #love #food #fun Malaysian Prime Minister Naji...       1  \n",
       "6932  @_charleyisqueen Yeah well maybe if the barber...       0  \n",
       "886                   aggressif is so bloody aggressive       0  \n",
       "5665  UD: Rescue (Structural Collapse) - Scott Road ...       1  \n",
       "2796  DISASTER AVERTED: Police kill gunman with 'hoa...       1  \n",
       "3575  Images of Famine ÛÒ Hope In Christ - A blog o...       1  "
      ]
     },
     "execution_count": 4,
     "metadata": {},
     "output_type": "execute_result"
    }
   ],
   "source": [
    "df = pd.read_csv(\"train.csv\")\n",
    "\n",
    "df.sample(10)"
   ]
  },
  {
   "cell_type": "markdown",
   "id": "c21ebb1b",
   "metadata": {},
   "source": [
    "Chaque ligne du Dataframe correspond à des informations d'un poste sur Twitter.\n",
    "\n",
    "La colonne \"Keyword\" montre les mots clés de chaque poste, afin de les différencier.\n",
    "\n",
    "\"Location\" indique une information supplémentaire au poste liée à la localisation du sujet du poste en question.\n",
    "\n",
    "\"Text\" contient le contenu du poste Twitter."
   ]
  },
  {
   "cell_type": "code",
   "execution_count": 5,
   "id": "21841b6b",
   "metadata": {},
   "outputs": [
    {
     "data": {
      "text/plain": [
       "(7613, 5)"
      ]
     },
     "execution_count": 5,
     "metadata": {},
     "output_type": "execute_result"
    }
   ],
   "source": [
    "df.shape"
   ]
  },
  {
   "cell_type": "code",
   "execution_count": 6,
   "id": "3ff8c515",
   "metadata": {},
   "outputs": [
    {
     "data": {
      "text/plain": [
       "array([False])"
      ]
     },
     "execution_count": 6,
     "metadata": {},
     "output_type": "execute_result"
    }
   ],
   "source": [
    "df.duplicated().unique()"
   ]
  },
  {
   "cell_type": "markdown",
   "id": "0a53107a",
   "metadata": {},
   "source": [
    "Il n'y a aucune valeur dupliquée"
   ]
  },
  {
   "cell_type": "code",
   "execution_count": 7,
   "id": "69c9f40e",
   "metadata": {},
   "outputs": [
    {
     "name": "stdout",
     "output_type": "stream",
     "text": [
      "[False]\n",
      "[ True False]\n",
      "[ True False]\n",
      "[False]\n",
      "[False]\n"
     ]
    }
   ],
   "source": [
    "print(df[\"id\"].isna().unique())\n",
    "\n",
    "print(df[\"keyword\"].isna().unique())\n",
    "\n",
    "print(df[\"location\"].isna().unique())\n",
    "\n",
    "print(df[\"text\"].isna().unique())\n",
    "\n",
    "print(df[\"target\"].isna().unique())"
   ]
  },
  {
   "cell_type": "markdown",
   "id": "7d6f8f8e",
   "metadata": {},
   "source": [
    "Les colonnes Keyword et Location ont des valeurs NaN"
   ]
  },
  {
   "cell_type": "code",
   "execution_count": 8,
   "id": "b172d98d",
   "metadata": {},
   "outputs": [
    {
     "data": {
      "text/plain": [
       "61"
      ]
     },
     "execution_count": 8,
     "metadata": {},
     "output_type": "execute_result"
    }
   ],
   "source": [
    "df[\"keyword\"].isna().sum()"
   ]
  },
  {
   "cell_type": "code",
   "execution_count": 9,
   "id": "e7e7d9ce",
   "metadata": {},
   "outputs": [
    {
     "data": {
      "text/plain": [
       "2533"
      ]
     },
     "execution_count": 9,
     "metadata": {},
     "output_type": "execute_result"
    }
   ],
   "source": [
    "df[\"location\"].isna().sum()"
   ]
  },
  {
   "cell_type": "code",
   "execution_count": 10,
   "id": "93e6bd6f",
   "metadata": {},
   "outputs": [
    {
     "data": {
      "text/html": [
       "<div>\n",
       "<style scoped>\n",
       "    .dataframe tbody tr th:only-of-type {\n",
       "        vertical-align: middle;\n",
       "    }\n",
       "\n",
       "    .dataframe tbody tr th {\n",
       "        vertical-align: top;\n",
       "    }\n",
       "\n",
       "    .dataframe thead th {\n",
       "        text-align: right;\n",
       "    }\n",
       "</style>\n",
       "<table border=\"1\" class=\"dataframe\">\n",
       "  <thead>\n",
       "    <tr style=\"text-align: right;\">\n",
       "      <th></th>\n",
       "      <th>id</th>\n",
       "      <th>keyword</th>\n",
       "      <th>location</th>\n",
       "      <th>text</th>\n",
       "      <th>target</th>\n",
       "    </tr>\n",
       "  </thead>\n",
       "  <tbody>\n",
       "    <tr>\n",
       "      <th>4203</th>\n",
       "      <td>5966</td>\n",
       "      <td>hazard</td>\n",
       "      <td>Dil's Campsite</td>\n",
       "      <td>@Dead_Dreamer15 ...because if it were on fire ...</td>\n",
       "      <td>1</td>\n",
       "    </tr>\n",
       "    <tr>\n",
       "      <th>5802</th>\n",
       "      <td>8283</td>\n",
       "      <td>rioting</td>\n",
       "      <td>Colonial Heights, VA</td>\n",
       "      <td>@halljh1720. I am so sick of criminals parents...</td>\n",
       "      <td>1</td>\n",
       "    </tr>\n",
       "    <tr>\n",
       "      <th>3525</th>\n",
       "      <td>5039</td>\n",
       "      <td>eyewitness</td>\n",
       "      <td>Bakersfield, California</td>\n",
       "      <td>Wake Up Kern County Eyewitness News Mornings a...</td>\n",
       "      <td>1</td>\n",
       "    </tr>\n",
       "    <tr>\n",
       "      <th>2935</th>\n",
       "      <td>4218</td>\n",
       "      <td>drowned</td>\n",
       "      <td>Dubai</td>\n",
       "      <td>Migrants drown at sea after boat capsizes off ...</td>\n",
       "      <td>1</td>\n",
       "    </tr>\n",
       "    <tr>\n",
       "      <th>7339</th>\n",
       "      <td>10506</td>\n",
       "      <td>wildfire</td>\n",
       "      <td>NaN</td>\n",
       "      <td>Wildfire Burns On California U.s. China Econom...</td>\n",
       "      <td>1</td>\n",
       "    </tr>\n",
       "    <tr>\n",
       "      <th>1234</th>\n",
       "      <td>1775</td>\n",
       "      <td>buildings%20on%20fire</td>\n",
       "      <td>Manchester, NH</td>\n",
       "      <td>Fire destroys two buildings on 2nd Street in #...</td>\n",
       "      <td>1</td>\n",
       "    </tr>\n",
       "    <tr>\n",
       "      <th>7465</th>\n",
       "      <td>10681</td>\n",
       "      <td>wounds</td>\n",
       "      <td>Paterson, New Jersey</td>\n",
       "      <td>Driver rams car into Israeli soldiers wounds 3...</td>\n",
       "      <td>1</td>\n",
       "    </tr>\n",
       "    <tr>\n",
       "      <th>391</th>\n",
       "      <td>565</td>\n",
       "      <td>arson</td>\n",
       "      <td>Republic of Texas</td>\n",
       "      <td>Arson suspect linked to 30 fires caught in Nor...</td>\n",
       "      <td>1</td>\n",
       "    </tr>\n",
       "    <tr>\n",
       "      <th>4351</th>\n",
       "      <td>6181</td>\n",
       "      <td>hijack</td>\n",
       "      <td>NaN</td>\n",
       "      <td>Swansea Û÷plot hijack transfer move for South...</td>\n",
       "      <td>1</td>\n",
       "    </tr>\n",
       "    <tr>\n",
       "      <th>1980</th>\n",
       "      <td>2851</td>\n",
       "      <td>cyclone</td>\n",
       "      <td>NaN</td>\n",
       "      <td>#Rohingya houses in #Kyee NockThie hamlet from...</td>\n",
       "      <td>1</td>\n",
       "    </tr>\n",
       "  </tbody>\n",
       "</table>\n",
       "</div>"
      ],
      "text/plain": [
       "         id                keyword                 location  \\\n",
       "4203   5966                 hazard           Dil's Campsite   \n",
       "5802   8283                rioting     Colonial Heights, VA   \n",
       "3525   5039             eyewitness  Bakersfield, California   \n",
       "2935   4218                drowned                    Dubai   \n",
       "7339  10506               wildfire                      NaN   \n",
       "1234   1775  buildings%20on%20fire           Manchester, NH   \n",
       "7465  10681                 wounds    Paterson, New Jersey    \n",
       "391     565                  arson        Republic of Texas   \n",
       "4351   6181                 hijack                      NaN   \n",
       "1980   2851                cyclone                      NaN   \n",
       "\n",
       "                                                   text  target  \n",
       "4203  @Dead_Dreamer15 ...because if it were on fire ...       1  \n",
       "5802  @halljh1720. I am so sick of criminals parents...       1  \n",
       "3525  Wake Up Kern County Eyewitness News Mornings a...       1  \n",
       "2935  Migrants drown at sea after boat capsizes off ...       1  \n",
       "7339  Wildfire Burns On California U.s. China Econom...       1  \n",
       "1234  Fire destroys two buildings on 2nd Street in #...       1  \n",
       "7465  Driver rams car into Israeli soldiers wounds 3...       1  \n",
       "391   Arson suspect linked to 30 fires caught in Nor...       1  \n",
       "4351  Swansea Û÷plot hijack transfer move for South...       1  \n",
       "1980  #Rohingya houses in #Kyee NockThie hamlet from...       1  "
      ]
     },
     "execution_count": 10,
     "metadata": {},
     "output_type": "execute_result"
    }
   ],
   "source": [
    "df[df[\"target\"] == 1].sample(10)"
   ]
  },
  {
   "cell_type": "code",
   "execution_count": 29,
   "id": "50d757a7",
   "metadata": {},
   "outputs": [
    {
     "data": {
      "text/html": [
       "<div>\n",
       "<style scoped>\n",
       "    .dataframe tbody tr th:only-of-type {\n",
       "        vertical-align: middle;\n",
       "    }\n",
       "\n",
       "    .dataframe tbody tr th {\n",
       "        vertical-align: top;\n",
       "    }\n",
       "\n",
       "    .dataframe thead th {\n",
       "        text-align: right;\n",
       "    }\n",
       "</style>\n",
       "<table border=\"1\" class=\"dataframe\">\n",
       "  <thead>\n",
       "    <tr style=\"text-align: right;\">\n",
       "      <th></th>\n",
       "      <th>id</th>\n",
       "      <th>keyword</th>\n",
       "      <th>location</th>\n",
       "      <th>text</th>\n",
       "      <th>target</th>\n",
       "      <th>character_count</th>\n",
       "    </tr>\n",
       "  </thead>\n",
       "  <tbody>\n",
       "    <tr>\n",
       "      <th>2958</th>\n",
       "      <td>4250</td>\n",
       "      <td>drowning</td>\n",
       "      <td>New York</td>\n",
       "      <td>The Drowning Girl by Caitlin R. Kiernan Centip...</td>\n",
       "      <td>0</td>\n",
       "      <td>138</td>\n",
       "    </tr>\n",
       "    <tr>\n",
       "      <th>1656</th>\n",
       "      <td>2391</td>\n",
       "      <td>collapsed</td>\n",
       "      <td>San Francisco Bay Area</td>\n",
       "      <td>My @Quora answer to Why do my answers get coll...</td>\n",
       "      <td>0</td>\n",
       "      <td>93</td>\n",
       "    </tr>\n",
       "    <tr>\n",
       "      <th>5892</th>\n",
       "      <td>8414</td>\n",
       "      <td>sandstorm</td>\n",
       "      <td>NaN</td>\n",
       "      <td>Who need friends when there's booze and Darude...</td>\n",
       "      <td>0</td>\n",
       "      <td>61</td>\n",
       "    </tr>\n",
       "    <tr>\n",
       "      <th>848</th>\n",
       "      <td>1228</td>\n",
       "      <td>blizzard</td>\n",
       "      <td>United States</td>\n",
       "      <td>@LoneWolffur BRUH *dies*</td>\n",
       "      <td>0</td>\n",
       "      <td>24</td>\n",
       "    </tr>\n",
       "    <tr>\n",
       "      <th>2913</th>\n",
       "      <td>4182</td>\n",
       "      <td>drown</td>\n",
       "      <td>it's a journey</td>\n",
       "      <td>Don't think for one second I'm out to drown yo...</td>\n",
       "      <td>0</td>\n",
       "      <td>90</td>\n",
       "    </tr>\n",
       "    <tr>\n",
       "      <th>5858</th>\n",
       "      <td>8369</td>\n",
       "      <td>ruin</td>\n",
       "      <td>New York - Connecticut</td>\n",
       "      <td>Damn Wale knows how to ruin a song??</td>\n",
       "      <td>0</td>\n",
       "      <td>36</td>\n",
       "    </tr>\n",
       "    <tr>\n",
       "      <th>98</th>\n",
       "      <td>141</td>\n",
       "      <td>accident</td>\n",
       "      <td>Gloucestershire , UK</td>\n",
       "      <td>@flowri were you marinading it or was it an ac...</td>\n",
       "      <td>0</td>\n",
       "      <td>53</td>\n",
       "    </tr>\n",
       "    <tr>\n",
       "      <th>782</th>\n",
       "      <td>1132</td>\n",
       "      <td>blight</td>\n",
       "      <td>Sydney</td>\n",
       "      <td>As a cycling fan I feel sorry for world athlet...</td>\n",
       "      <td>0</td>\n",
       "      <td>139</td>\n",
       "    </tr>\n",
       "    <tr>\n",
       "      <th>4165</th>\n",
       "      <td>5918</td>\n",
       "      <td>harm</td>\n",
       "      <td>å_: ?? ÌÑ ? : ?</td>\n",
       "      <td>someone just reblogged a picture of self harm ...</td>\n",
       "      <td>0</td>\n",
       "      <td>82</td>\n",
       "    </tr>\n",
       "    <tr>\n",
       "      <th>6841</th>\n",
       "      <td>9800</td>\n",
       "      <td>trapped</td>\n",
       "      <td>Like us on Face</td>\n",
       "      <td>Hollywood Movie About Trapped Miners Released ...</td>\n",
       "      <td>0</td>\n",
       "      <td>136</td>\n",
       "    </tr>\n",
       "  </tbody>\n",
       "</table>\n",
       "</div>"
      ],
      "text/plain": [
       "        id    keyword                location  \\\n",
       "2958  4250   drowning                New York   \n",
       "1656  2391  collapsed  San Francisco Bay Area   \n",
       "5892  8414  sandstorm                     NaN   \n",
       "848   1228   blizzard           United States   \n",
       "2913  4182      drown         it's a journey    \n",
       "5858  8369       ruin  New York - Connecticut   \n",
       "98     141   accident    Gloucestershire , UK   \n",
       "782   1132     blight                  Sydney   \n",
       "4165  5918       harm         å_: ?? ÌÑ ? : ?   \n",
       "6841  9800    trapped        Like us on Face    \n",
       "\n",
       "                                                   text  target  \\\n",
       "2958  The Drowning Girl by Caitlin R. Kiernan Centip...       0   \n",
       "1656  My @Quora answer to Why do my answers get coll...       0   \n",
       "5892  Who need friends when there's booze and Darude...       0   \n",
       "848                            @LoneWolffur BRUH *dies*       0   \n",
       "2913  Don't think for one second I'm out to drown yo...       0   \n",
       "5858               Damn Wale knows how to ruin a song??       0   \n",
       "98    @flowri were you marinading it or was it an ac...       0   \n",
       "782   As a cycling fan I feel sorry for world athlet...       0   \n",
       "4165  someone just reblogged a picture of self harm ...       0   \n",
       "6841  Hollywood Movie About Trapped Miners Released ...       0   \n",
       "\n",
       "      character_count  \n",
       "2958              138  \n",
       "1656               93  \n",
       "5892               61  \n",
       "848                24  \n",
       "2913               90  \n",
       "5858               36  \n",
       "98                 53  \n",
       "782               139  \n",
       "4165               82  \n",
       "6841              136  "
      ]
     },
     "execution_count": 29,
     "metadata": {},
     "output_type": "execute_result"
    }
   ],
   "source": [
    "df[df[\"target\"] == 0].sample(10)"
   ]
  },
  {
   "cell_type": "markdown",
   "id": "15936339",
   "metadata": {},
   "source": [
    "Les colonnes qui vont nous intéresser sont: \"Keyword\", \"Text\" et \"Target\".\n",
    "\n",
    "Target = 1 rassemble les postes qui parlent d'accidents, alors que Target = 0 parle d'autres sujets.\n",
    "\n",
    "Text est important pour avoir accès au contenu des postes, ce qui nous servira à chercher les mots clés intéressants ou non à garder.\n",
    "\n",
    "Keyword est aussi important pour déterminer quels mots clés ont été gardés pour quel postes, ce qui nous permets de garder uniquement les mots clés qui nous permettra de chercher les postes parlant d'accidents plus efficacement."
   ]
  },
  {
   "cell_type": "code",
   "execution_count": 12,
   "id": "77ad01cf",
   "metadata": {},
   "outputs": [
    {
     "data": {
      "image/png": "[encoded data removed]",
      "text/plain": [
       "<Figure size 640x480 with 1 Axes>"
      ]
     },
     "metadata": {},
     "output_type": "display_data"
    }
   ],
   "source": [
    "df[\"character_count\"] = df[\"text\"].apply(len)\n",
    "plt.boxplot(df[\"character_count\"])\n",
    "plt.show()"
   ]
  },
  {
   "cell_type": "code",
   "execution_count": 15,
   "id": "f4703f73",
   "metadata": {},
   "outputs": [
    {
     "name": "stdout",
     "output_type": "stream",
     "text": [
      "id                 0.753339\n",
      "keyword            0.746935\n",
      "location           0.761442\n",
      "text               0.753339\n",
      "target             0.753339\n",
      "character_count    0.753339\n",
      "dtype: float64\n"
     ]
    }
   ],
   "source": [
    "target1Count = df[df[\"target\"] == 1].count()\n",
    "target0Count = df[df[\"target\"] == 0].count()\n",
    "\n",
    "print(target1Count / target0Count)"
   ]
  },
  {
   "cell_type": "markdown",
   "id": "03190c67",
   "metadata": {},
   "source": [
    "On trouve que environs 75% des posts parlent de catastrophes."
   ]
  }
 ],
 "metadata": {
  "kernelspec": {
   "display_name": "Python 3 (ipykernel)",
   "language": "python",
   "name": "python3"
  },
  "language_info": {
   "codemirror_mode": {
    "name": "ipython",
    "version": 3
   },
   "file_extension": ".py",
   "mimetype": "text/x-python",
   "name": "python",
   "nbconvert_exporter": "python",
   "pygments_lexer": "ipython3",
   "version": "3.7.16"
  }
 },
 "nbformat": 4,
 "nbformat_minor": 5
}
