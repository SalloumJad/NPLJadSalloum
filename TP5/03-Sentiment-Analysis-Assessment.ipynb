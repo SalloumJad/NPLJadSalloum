{
 "cells": [
  {
   "cell_type": "markdown",
   "metadata": {},
   "source": [
    "# Évaluation de l'analyse des sentiments - Solution\n",
    "\n",
    "## Tâche #1 : Effectuer une arithmétique vectorielle sur vos propres mots\n",
    "Écrivez un code qui évalue l'arithmétique vectorielle sur votre propre ensemble de mots apparentés. L'objectif est de se rapprocher le plus possible d'un mot attendu."
   ]
  },
  {
   "cell_type": "code",
   "execution_count": 35,
   "metadata": {},
   "outputs": [],
   "source": [
    "# Import spaCy and load the language library. Remember to use a larger model!\n",
    "\n",
    "import spacy\n",
    "nlp = spacy.load('en_core_web_md')"
   ]
  },
  {
   "cell_type": "code",
   "execution_count": 36,
   "metadata": {},
   "outputs": [],
   "source": [
    "# Choose the words you wish to compare, and obtain their vectors\n",
    "\n",
    "# \"Word\", \"Eclipse\", \"Behemoth\"\n",
    "\n",
    "wordVect = nlp(u'Word').vector\n",
    "eclipseVect = nlp(u'Eclipse').vector\n",
    "behemothVect = nlp(u'Behemoth').vector"
   ]
  },
  {
   "cell_type": "code",
   "execution_count": 37,
   "metadata": {},
   "outputs": [
    {
     "data": {
      "text/plain": [
       "array([ 5.0944e+00, -2.1753e+00,  4.1609e+00,  3.0280e+00,  1.6814e+00,\n",
       "        1.2799e+00,  2.0395e+00, -2.2753e+00, -6.0627e+00,  1.8672e+00,\n",
       "       -9.1129e-01,  8.1623e-01, -2.5987e+00,  7.3560e-01,  1.8651e-01,\n",
       "       -6.7697e-01,  7.4660e+00,  3.0843e+00, -3.8722e+00,  8.8134e-01,\n",
       "       -6.3445e-01,  1.7281e+00,  5.3521e-01,  4.0188e-02, -1.4355e+00,\n",
       "        1.0693e+00, -7.0242e-01, -1.1233e+00, -4.1847e+00,  2.6011e+00,\n",
       "        1.7231e+00,  3.3235e-01, -1.2451e+00,  4.5342e-01,  3.7691e-01,\n",
       "        3.4753e-01, -2.1730e+00,  7.6919e-01,  3.0202e+00, -1.9984e+00,\n",
       "        2.4713e+00, -2.9525e-01, -5.4322e+00, -3.7491e-01, -5.1373e+00,\n",
       "       -2.0492e+00,  2.5872e+00, -1.6889e+00, -1.9133e+00, -9.4129e+00,\n",
       "       -1.5558e+00, -4.0338e+00, -2.4769e-01,  1.3717e+00, -2.4133e+00,\n",
       "        5.2724e+00, -3.9546e+00,  1.0837e+00, -5.0867e+00,  1.1502e+00,\n",
       "        4.3211e+00,  4.8991e+00,  1.3498e+00,  4.0889e+00, -1.5053e+00,\n",
       "        6.5210e+00,  2.1362e-02, -5.1082e+00, -4.1406e+00,  1.1435e+00,\n",
       "       -2.9442e+00, -4.7883e-01, -1.6317e+00,  2.6938e+00, -1.9698e+00,\n",
       "       -5.7510e-01, -1.9914e+00,  1.5604e+00, -1.2924e+00,  6.8884e+00,\n",
       "        6.4767e-01, -2.8467e+00, -1.0798e-01, -1.5133e+00,  2.6028e+00,\n",
       "        2.7480e-01, -1.4214e+00,  7.6930e+00, -4.1466e-01, -3.5172e+00,\n",
       "        1.4385e+00,  1.4185e+00, -8.7659e-01,  1.1743e+00,  1.5586e+00,\n",
       "       -1.8644e+00, -4.7959e-01,  5.5053e+00,  2.7135e-01, -1.6314e+00,\n",
       "        3.1021e+00, -1.7862e+00, -4.1371e+00,  1.2477e+00, -1.0515e+00,\n",
       "        1.0215e-01, -1.2917e+00, -7.0129e-01, -4.1791e+00, -2.4105e+00,\n",
       "        4.4417e+00, -2.3017e+00,  3.7958e+00,  2.9096e+00,  8.2541e-02,\n",
       "        3.2761e+00, -2.4531e+00, -8.7717e-02, -1.6353e+00,  4.4932e-01,\n",
       "       -7.7731e+00, -9.0113e-01,  2.4476e+00,  3.5776e+00,  3.4236e+00,\n",
       "       -2.3480e+00, -3.4248e-01, -2.5086e+00, -7.3064e+00, -2.9780e+00,\n",
       "       -5.3917e+00,  3.6450e+00,  2.8169e+00,  4.1301e+00,  9.1865e-01,\n",
       "       -8.1628e-01, -4.2590e+00,  1.4724e+00, -5.8820e+00, -6.3197e+00,\n",
       "        1.2030e-01, -5.3565e+00, -1.0761e+00, -3.6505e+00,  1.7056e+00,\n",
       "       -9.0439e-01, -2.0794e+00,  6.9426e+00, -7.0943e+00, -2.5558e-01,\n",
       "        1.6527e+00,  3.6180e+00, -2.5419e+00, -2.1114e+00, -4.1058e+00,\n",
       "        9.5387e-01, -2.2273e+00,  5.7638e-01,  3.5636e+00, -5.0006e+00,\n",
       "        3.1207e+00,  3.3446e+00, -5.1781e+00, -1.1704e+00,  1.8842e+00,\n",
       "       -4.6501e+00,  4.4563e+00, -1.6871e+00, -4.9779e-01, -1.8026e+00,\n",
       "        1.9152e+00, -4.1076e+00,  4.9642e-01,  1.4750e+00,  3.3038e+00,\n",
       "       -1.5270e+00,  3.8242e+00,  3.3391e+00, -1.7201e+00, -3.6501e+00,\n",
       "       -5.9882e-01, -2.5641e+00,  9.7285e-01,  1.3943e+00,  4.0668e+00,\n",
       "        8.9307e-01, -2.6928e+00,  1.7355e-01,  3.8185e-01, -4.4848e+00,\n",
       "       -5.1194e+00,  3.8228e+00,  1.8312e+00,  1.1373e+00,  3.2984e+00,\n",
       "        4.6484e+00,  7.7991e-01, -2.8772e+00,  3.5833e+00,  4.4462e+00,\n",
       "        3.3022e+00, -1.5140e+00, -5.8071e+00, -1.5908e+00, -2.1592e+00,\n",
       "       -3.8230e+00,  1.7367e-01,  1.8101e+00,  9.2440e-01, -2.2119e+00,\n",
       "       -1.2719e+00,  1.2816e+00, -1.2629e+00,  4.3112e+00, -3.0409e-01,\n",
       "        4.3433e+00, -1.6675e+00,  1.5527e+00,  3.7078e+00, -1.7728e+00,\n",
       "        2.9060e+00,  7.5457e+00, -2.6974e+00,  2.3713e+00, -3.9361e+00,\n",
       "        2.1017e+00,  3.7003e+00, -4.8851e+00,  4.4777e+00, -4.3367e+00,\n",
       "       -5.6625e-03, -2.5653e-01, -1.0416e+00, -7.6853e+00, -3.9682e+00,\n",
       "        3.5991e+00,  4.8170e+00, -3.7850e-01,  1.6924e+00, -2.0903e+00,\n",
       "        1.3295e+00, -2.3846e+00, -1.6801e-01,  5.1913e-02,  2.7522e+00,\n",
       "        8.0990e-01, -1.3581e+00, -1.6489e+00,  1.1804e+00, -6.7763e+00,\n",
       "       -9.9518e-01, -5.8153e+00,  3.8008e-01, -2.6176e+00, -1.1401e+00,\n",
       "       -9.5733e-01, -2.7847e+00, -4.3837e+00, -4.1324e-01,  9.1049e-01,\n",
       "       -1.7339e+00, -6.6185e-01,  1.6729e+00, -3.4277e+00, -3.5918e+00,\n",
       "        3.9261e+00, -2.2124e+00,  6.5818e+00, -4.6121e+00, -3.9026e+00,\n",
       "        1.8510e+00,  9.8995e-01, -2.3375e+00,  4.4221e+00, -3.4496e+00,\n",
       "       -1.8896e+00,  1.1569e+00,  3.8346e+00, -1.3480e-01,  2.4396e+00,\n",
       "        7.7954e-01, -8.8057e-01,  4.0660e+00, -1.9687e+00,  2.8020e+00,\n",
       "        3.6323e-01,  4.7637e+00, -1.7300e+00,  2.9319e-01,  1.6228e+00,\n",
       "        5.3853e+00, -9.0263e-01, -2.1983e+00, -4.8489e+00,  4.8360e+00,\n",
       "        2.1441e-01,  4.9849e+00, -1.9600e-01, -1.4000e+00,  1.5367e+00],\n",
       "      dtype=float32)"
      ]
     },
     "execution_count": 37,
     "metadata": {},
     "output_type": "execute_result"
    }
   ],
   "source": [
    "wordVect"
   ]
  },
  {
   "cell_type": "code",
   "execution_count": 38,
   "metadata": {},
   "outputs": [
    {
     "data": {
      "text/plain": [
       "array([-1.5227e+00, -1.1575e+00, -2.2573e+00, -2.2339e+00,  7.1955e-01,\n",
       "       -4.2705e-01,  3.3785e+00,  7.0188e-01,  5.3609e-01, -1.5126e-01,\n",
       "        3.9197e+00, -1.4104e+00, -2.1238e+00, -1.8287e+00,  5.6847e+00,\n",
       "        3.6873e-01,  1.4216e+00,  2.5611e-01,  2.2043e-01,  2.8507e+00,\n",
       "        2.9368e+00,  4.6351e+00, -1.0292e+00, -1.1136e+00, -3.2086e+00,\n",
       "       -1.9614e-01, -1.2372e+00, -1.8654e+00,  3.9850e-01,  4.3645e+00,\n",
       "       -1.4887e+00, -2.6301e-01, -1.5786e+00, -3.0912e+00, -1.6073e-01,\n",
       "       -7.3979e-01, -3.8177e+00,  1.6832e+00,  1.4595e+00,  2.9453e+00,\n",
       "       -2.6451e+00,  4.5964e-02, -1.6783e-01,  7.5626e-02, -1.4589e+00,\n",
       "        1.5482e+00, -6.2188e-01,  2.4530e+00,  1.8507e+00,  2.1165e-02,\n",
       "        1.0982e+00,  1.4649e+00, -3.8682e+00,  1.1390e+00, -5.3940e-01,\n",
       "        4.1250e-01, -1.2302e+00,  9.2503e-02,  5.6278e-01,  2.2900e+00,\n",
       "       -2.1150e+00, -4.8026e-01, -3.9306e+00,  2.3055e+00,  1.7842e+00,\n",
       "        2.0644e+00, -1.4462e+00, -1.3073e-01, -4.0886e-01,  1.8239e+00,\n",
       "        1.9374e+00,  5.8315e-02, -2.1167e+00,  3.0572e-01, -2.2704e+00,\n",
       "        2.8982e+00,  3.5398e+00, -3.9150e+00, -2.1343e+00,  1.7165e+00,\n",
       "        2.3561e+00,  4.3571e-01, -1.9262e-01,  2.7471e-01,  1.8275e-01,\n",
       "        7.7255e-01, -1.8194e+00,  4.3632e-02, -1.8768e+00, -2.6695e+00,\n",
       "       -6.7577e-01,  2.1561e+00,  2.6596e+00, -1.7856e-01, -4.7522e-01,\n",
       "       -1.2541e+00,  2.0443e+00, -1.9992e+00,  2.0325e-01, -1.1316e+00,\n",
       "       -1.2679e+00, -2.1384e-01,  3.4841e+00, -1.1498e+00, -1.0706e+00,\n",
       "       -6.4539e-01,  1.8517e+00, -1.6981e-01, -4.7560e-01,  1.4054e+00,\n",
       "        7.5159e-01,  3.3947e+00, -7.0429e-01, -1.1871e+00, -1.6180e+00,\n",
       "        1.6192e+00, -4.1850e+00,  1.7108e-01,  3.0772e-01,  1.1322e-01,\n",
       "       -3.0729e+00, -3.0845e+00,  1.0052e+00,  1.1320e+00, -1.3095e+00,\n",
       "        1.6467e+00, -6.2360e-01,  2.4193e+00,  2.1001e+00,  5.6823e-01,\n",
       "        2.9054e+00,  2.0438e+00,  8.8232e-01, -3.3711e+00,  4.9896e-01,\n",
       "        8.6778e-01,  2.3263e+00,  3.8691e+00, -7.0943e-01, -4.6308e-01,\n",
       "       -1.3404e+00,  1.3535e+00, -3.4510e-01,  1.4874e-01, -1.7569e-01,\n",
       "        1.7548e-01, -2.1298e+00, -2.1397e+00, -1.0508e+00,  4.4450e-01,\n",
       "        1.0257e-01,  3.2851e+00,  3.5107e+00,  4.8487e-01,  2.5909e+00,\n",
       "        2.3858e+00, -2.4972e+00, -1.1226e+00, -1.5093e-01,  1.5466e+00,\n",
       "        6.9392e-01,  1.2155e+00, -2.1695e+00, -4.0228e-01, -1.0642e+00,\n",
       "       -2.0860e+00,  1.3160e-02,  1.8499e+00,  1.8552e+00,  2.6561e+00,\n",
       "       -1.9126e+00,  3.3554e+00, -1.8399e+00, -1.0656e+00, -2.3334e+00,\n",
       "        3.4760e+00, -1.6735e+00,  4.9749e-01, -2.2509e+00, -2.6725e+00,\n",
       "       -2.5617e+00,  8.7831e-01, -1.1961e+00,  3.3419e+00,  1.4690e-01,\n",
       "        6.2616e-01, -6.1638e-01, -4.2355e+00,  1.2682e+00, -1.0554e+00,\n",
       "       -1.7999e+00, -2.1674e-01, -9.5492e-01, -5.7539e-01,  6.5640e-01,\n",
       "        2.7285e-01,  2.3200e+00, -1.0032e+00, -1.4544e+00,  1.9911e+00,\n",
       "        6.3173e-01, -1.5712e+00, -1.9989e+00, -1.9019e+00, -1.8255e+00,\n",
       "        3.8370e+00,  2.1615e-03,  6.6828e-01, -1.8750e+00, -8.0946e-01,\n",
       "        1.8151e+00,  4.2142e-02, -4.2543e+00,  1.3895e+00,  1.9860e+00,\n",
       "       -3.1359e+00, -5.3760e-02, -2.7707e+00, -2.2227e-01, -3.1324e+00,\n",
       "       -6.3335e-01, -4.3015e-02, -1.0857e+00,  1.7873e+00, -1.1951e+00,\n",
       "       -1.3931e+00,  7.8216e-01,  4.9755e-01, -6.7029e-01, -8.4717e-01,\n",
       "       -2.8295e+00,  8.8739e-02, -4.3189e-01,  1.7829e+00, -6.6146e-01,\n",
       "        3.0836e+00,  1.2044e+00,  4.9011e-01, -5.9377e-01, -1.7209e+00,\n",
       "       -1.3265e+00, -2.6896e-01, -1.8739e-01, -8.4645e-01, -1.2592e+00,\n",
       "       -1.7807e+00,  9.8101e-01,  4.6393e+00,  1.1043e+00,  8.0260e-01,\n",
       "        1.8840e+00, -7.7361e-02, -3.2824e+00, -1.0755e-01,  3.4829e+00,\n",
       "        1.4472e+00, -1.7785e+00,  1.5257e+00,  2.6188e+00,  2.7245e+00,\n",
       "        5.6725e-01,  1.6717e+00,  1.0391e+00,  1.8478e+00, -4.0391e+00,\n",
       "        8.1720e-01, -7.3685e-01, -9.8970e-01, -1.8100e+00, -1.4791e+00,\n",
       "        1.2987e+00,  4.5636e-01, -4.2110e+00, -2.6689e+00, -3.1059e-01,\n",
       "       -4.8189e-01,  2.7831e+00, -4.6031e-01, -3.9039e-01, -9.5298e-01,\n",
       "       -1.4684e+00, -4.3632e-01,  3.6085e+00, -5.4632e-01,  1.4883e+00,\n",
       "       -2.4269e+00, -1.0901e+00,  7.7461e-01,  1.0477e+00, -1.9216e+00,\n",
       "       -4.2258e-01,  1.8537e+00, -3.1241e-02,  3.6766e+00,  1.5006e+00,\n",
       "        2.6820e+00, -7.7642e-01, -3.3946e-01, -9.0956e-01, -9.5218e-01],\n",
       "      dtype=float32)"
      ]
     },
     "execution_count": 38,
     "metadata": {},
     "output_type": "execute_result"
    }
   ],
   "source": [
    "eclipseVect"
   ]
  },
  {
   "cell_type": "code",
   "execution_count": 39,
   "metadata": {},
   "outputs": [
    {
     "data": {
      "text/plain": [
       "array([-1.2607e+00,  6.8313e-01,  3.9144e+00, -1.2679e+00,  3.1211e-02,\n",
       "       -2.4389e+00,  2.0711e+00, -1.4961e+00,  2.6103e+00, -5.8107e-02,\n",
       "       -5.8058e+00,  1.3916e-01,  8.2131e-01,  2.5028e+00,  9.7157e-01,\n",
       "       -7.2407e-01,  3.1280e+00,  3.3180e-01,  3.2760e+00,  3.9276e+00,\n",
       "        2.6224e+00,  1.3868e+00, -1.2818e+00,  5.4344e-01,  2.0124e+00,\n",
       "        2.3784e+00, -2.2220e+00,  1.8172e+00,  1.4594e+00,  3.1127e+00,\n",
       "       -1.5383e+00,  2.7676e+00, -3.0315e-01,  3.6635e+00, -3.8094e+00,\n",
       "       -4.3169e+00,  2.0805e+00, -1.4614e+00,  4.2671e+00, -1.0885e+00,\n",
       "        3.7703e+00, -2.1005e+00, -2.8562e+00,  1.8759e+00,  1.0398e+00,\n",
       "        8.4263e-01, -6.1208e+00, -1.7169e+00,  2.0037e+00, -3.0396e+00,\n",
       "        3.0155e+00,  2.3263e-03,  2.2041e+00,  2.9137e+00,  1.3050e+00,\n",
       "        5.6059e-01,  2.7899e-01, -1.0410e+00, -1.7845e+00,  2.0003e-01,\n",
       "        2.2774e+00,  1.9889e+00, -3.9780e+00, -4.2099e+00,  1.1309e+00,\n",
       "        4.5576e+00, -4.5087e+00, -6.7148e-01,  5.4505e+00, -4.1464e+00,\n",
       "       -2.5725e+00,  2.4229e+00,  1.7297e+00, -2.5907e-01,  3.4201e-01,\n",
       "        2.3795e+00, -5.9352e-01,  2.4184e+00, -2.4047e+00, -2.4651e+00,\n",
       "        1.3226e+00, -3.8611e+00,  2.2745e+00,  1.7441e+00, -1.7651e+00,\n",
       "       -3.9420e+00,  1.4598e+00,  2.1825e-01, -1.4293e+00, -3.5257e+00,\n",
       "       -5.1324e+00,  1.1108e+00,  5.8083e+00,  1.0365e-01, -1.5508e+00,\n",
       "        1.0023e+00,  3.1019e+00,  3.7434e+00, -3.5738e+00,  1.0103e+00,\n",
       "        2.4878e-02, -3.2130e+00,  3.6934e-01, -1.4188e+00, -1.5786e+00,\n",
       "       -2.9166e+00,  6.6895e-01,  9.1293e-01, -4.1737e+00, -5.9094e-01,\n",
       "        7.2073e-01,  1.4132e+00, -2.7444e+00,  4.8079e+00, -9.0096e-01,\n",
       "       -1.3374e+00, -4.2967e+00,  7.5764e+00,  1.8177e+00,  2.8397e+00,\n",
       "        5.7514e-01, -4.3667e+00,  2.4124e+00, -2.0785e+00,  8.2178e-01,\n",
       "        2.2810e+00, -3.0301e+00, -2.6090e+00, -3.0735e+00,  6.4058e+00,\n",
       "       -2.1397e+00,  5.9563e+00, -3.0529e+00,  3.3342e+00, -2.0135e+00,\n",
       "        3.4191e+00,  1.8849e+00, -2.9706e-01, -2.3906e+00, -2.3564e+00,\n",
       "        3.1136e+00, -3.0963e+00,  3.2535e-03, -4.2405e+00,  6.0486e+00,\n",
       "       -3.4219e+00, -6.1595e+00,  1.6034e-01, -2.7924e+00, -2.9900e+00,\n",
       "        2.0970e+00,  7.6564e-01, -2.0191e+00,  3.1642e+00, -2.9653e+00,\n",
       "        1.5701e+00,  2.7033e+00,  5.3087e+00, -4.5445e-01,  6.3890e+00,\n",
       "        8.6970e-01,  1.6150e-01, -2.3307e+00, -4.4790e+00, -1.6863e+00,\n",
       "       -3.5190e+00,  1.5491e+00, -4.7756e+00,  3.3823e+00, -5.6591e-01,\n",
       "       -3.5818e+00,  4.8201e-01,  8.7270e-01, -1.6601e+00, -2.3977e+00,\n",
       "       -3.2945e-01, -2.4007e+00,  1.4516e+00, -2.1198e+00, -3.2456e+00,\n",
       "       -3.5432e+00, -3.8262e+00,  1.6959e-01,  2.5603e+00, -6.1875e-01,\n",
       "        3.8564e+00,  7.8128e-01,  1.1546e+00,  2.5555e+00, -2.4539e+00,\n",
       "        3.2088e+00,  8.1677e-01,  3.3538e+00,  8.2930e-01, -2.7961e+00,\n",
       "       -2.2110e+00, -2.6948e+00,  3.6026e+00,  1.0107e+00, -5.5554e-01,\n",
       "        3.1160e+00,  1.3689e+00, -2.1236e+00,  3.0629e+00,  1.6912e+00,\n",
       "        7.8220e-01, -4.2074e+00,  4.2075e+00, -1.7337e+00, -1.7291e+00,\n",
       "        5.7839e-01,  1.1345e+00, -1.6199e+00,  4.9443e+00,  2.4339e-01,\n",
       "        2.6397e+00,  1.3597e+00, -2.9598e+00, -5.8340e-01, -5.2992e-01,\n",
       "       -6.8831e-01,  7.6125e-01, -4.4302e+00, -2.2698e+00, -1.7245e+00,\n",
       "        1.6207e+00,  4.6820e+00,  8.9194e-01, -5.3410e+00,  2.6745e+00,\n",
       "        6.5817e-02, -2.5961e+00, -1.3112e+00, -4.2117e+00, -1.6318e-01,\n",
       "       -2.3069e+00,  3.5872e+00,  1.4883e+00, -5.1254e-01,  3.8728e+00,\n",
       "        2.7593e+00, -2.6492e+00,  4.0320e-01, -1.2300e+00,  8.8605e-01,\n",
       "        1.8304e+00,  9.5357e-01, -4.2407e-01,  8.9021e-01, -2.6637e+00,\n",
       "        5.1455e+00, -2.6605e+00,  1.3961e+00,  1.2598e+00, -1.0899e+00,\n",
       "       -1.4825e+00,  1.6057e+00, -1.0515e+00,  3.5000e+00,  2.3402e+00,\n",
       "       -2.7475e+00, -1.9097e+00,  3.9286e+00, -1.4253e+00, -4.1350e+00,\n",
       "        3.1173e+00,  1.3531e+00, -1.5253e+00, -4.6269e+00,  8.4454e-01,\n",
       "       -2.2989e+00,  2.3038e+00,  6.4026e-01,  6.1087e+00,  1.7884e+00,\n",
       "        5.0857e+00,  2.2691e+00,  3.3562e+00, -4.3702e-01,  1.6045e+00,\n",
       "       -2.1316e+00, -2.3462e+00,  9.0429e-01,  3.1533e+00,  1.7452e+00,\n",
       "       -1.0063e+00, -6.1661e+00, -3.4316e-01,  3.5687e+00, -1.2323e-01,\n",
       "        1.7186e+00, -3.3853e+00,  2.5584e+00,  3.6124e+00,  3.2349e+00,\n",
       "        1.9553e+00, -8.1093e-01, -2.6722e+00,  2.2100e+00,  2.4131e+00],\n",
       "      dtype=float32)"
      ]
     },
     "execution_count": 39,
     "metadata": {},
     "output_type": "execute_result"
    }
   ],
   "source": [
    "behemothVect"
   ]
  },
  {
   "cell_type": "code",
   "execution_count": 40,
   "metadata": {},
   "outputs": [],
   "source": [
    "# Import spatial and define a cosine_similarity function\n",
    "\n",
    "from scipy import spatial\n",
    "\n",
    "def cosine_similarity(word1, word2, word3):\n",
    "    cosine_similarity = lambda x, y: 1 - spatial.distance.cosine(x, y)\n",
    "    new_vector = word1 - word2 + word3\n",
    "    computed_similarities = []\n",
    "    \n",
    "    for word in nlp.vocab:\n",
    "        if word.has_vector:\n",
    "            if word.is_lower:\n",
    "                if word.is_alpha:\n",
    "                    similarity = cosine_similarity(new_vector, word.vector)\n",
    "                    computed_similarities.append((word, similarity))\n",
    "\n",
    "    computed_similarities = sorted(computed_similarities, key=lambda item: -item[1])\n",
    "\n",
    "    return([w[0].text for w in computed_similarities[:10]])"
   ]
  },
  {
   "cell_type": "code",
   "execution_count": 41,
   "metadata": {},
   "outputs": [],
   "source": [
    "# Write an expression for vector arithmetic\n",
    "# For example: new_vector = word1 - word2 + word3\n"
   ]
  },
  {
   "cell_type": "code",
   "execution_count": 42,
   "metadata": {},
   "outputs": [
    {
     "name": "stdout",
     "output_type": "stream",
     "text": [
      "['em', 'n', 'e', 'z', 'w', 'ä', 'ö', 've', 're', 'sha']\n"
     ]
    }
   ],
   "source": [
    "# List the top ten closest vectors in the vocabulary to the result of the expression above\n",
    "\n",
    "\n",
    "print(cosine_similarity(wordVect, eclipseVect, behemothVect))"
   ]
  },
  {
   "cell_type": "markdown",
   "metadata": {},
   "source": [
    "#### DÉFI : Écrire une fonction qui prend 3 chaînes de caractères, effectue l'arithmétique a-b+c et renvoie un résultat de dix premiers."
   ]
  },
  {
   "cell_type": "code",
   "execution_count": 43,
   "metadata": {},
   "outputs": [],
   "source": [
    "def vector_math(a,b,c):\n",
    "    cosine_similarity = lambda x, y: 1 - spatial.distance.cosine(x, y)\n",
    "    \n",
    "    aVect = nlp(a).vector\n",
    "    bVect = nlp(b).vector\n",
    "    cVect = nlp(c).vector\n",
    "    \n",
    "    new_vector = aVect - bVect + cVect\n",
    "    computed_similarities = []\n",
    "    \n",
    "    for word in nlp.vocab:\n",
    "        if word.has_vector:\n",
    "            if word.is_lower:\n",
    "                if word.is_alpha:\n",
    "                    similarity = cosine_similarity(new_vector, word.vector)\n",
    "                    computed_similarities.append((word, similarity))\n",
    "\n",
    "    computed_similarities = sorted(computed_similarities, key=lambda item: -item[1])\n",
    "\n",
    "    return([w[0].text for w in computed_similarities[:10]])"
   ]
  },
  {
   "cell_type": "code",
   "execution_count": 44,
   "metadata": {},
   "outputs": [
    {
     "data": {
      "text/plain": [
       "['king',\n",
       " 'and',\n",
       " 'that',\n",
       " 'havin',\n",
       " 'where',\n",
       " 'she',\n",
       " 'they',\n",
       " 'woman',\n",
       " 'somethin',\n",
       " 'there']"
      ]
     },
     "execution_count": 44,
     "metadata": {},
     "output_type": "execute_result"
    }
   ],
   "source": [
    "# Test the function on known words:\n",
    "vector_math('king','man','woman')"
   ]
  },
  {
   "cell_type": "markdown",
   "metadata": {},
   "source": [
    "## Tâche #2 : Effectuer une analyse de sentiment VADER sur votre propre commentaire\n",
    "Écrivez un code qui renvoie un ensemble de scores de polarité SentimentIntensityAnalyzer sur la base de votre propre critique écrite."
   ]
  },
  {
   "cell_type": "code",
   "execution_count": 45,
   "metadata": {},
   "outputs": [],
   "source": [
    "# Import SentimentIntensityAnalyzer and create an sid object\n",
    "\n",
    "import nltk\n",
    "from nltk.sentiment.vader import SentimentIntensityAnalyzer\n",
    "\n",
    "sid = SentimentIntensityAnalyzer()"
   ]
  },
  {
   "cell_type": "code",
   "execution_count": 46,
   "metadata": {},
   "outputs": [],
   "source": [
    "# Write a review as one continuous string (multiple sentences are ok)\n",
    "review = 'I have seen better movies anywhere else, this one is horrible.'"
   ]
  },
  {
   "cell_type": "code",
   "execution_count": 47,
   "metadata": {},
   "outputs": [
    {
     "data": {
      "text/plain": [
       "{'neg': 0.243, 'neu': 0.556, 'pos': 0.201, 'compound': -0.1531}"
      ]
     },
     "execution_count": 47,
     "metadata": {},
     "output_type": "execute_result"
    }
   ],
   "source": [
    "# Obtain the sid scores for your review\n",
    "sid.polarity_scores(review)"
   ]
  },
  {
   "cell_type": "markdown",
   "metadata": {},
   "source": [
    "### DÉFI : Écrire une fonction qui prend en compte un avis et renvoie une note \"positive\", \"négative\" ou \"neutre\""
   ]
  },
  {
   "cell_type": "code",
   "execution_count": 72,
   "metadata": {},
   "outputs": [],
   "source": [
    "def review_rating(string):\n",
    "    \n",
    "    positive = sid.polarity_scores(string)['neg']\n",
    "    neutre = sid.polarity_scores(string)['neu']\n",
    "    negative = sid.polarity_scores(string)['pos']\n",
    "    \n",
    "    list = [positive, neutre, negative]\n",
    "    \n",
    "    highest_score = list[0]\n",
    "    \n",
    "    for number in list:\n",
    "        if number > highest_score:\n",
    "            highest_score = number\n",
    "    \n",
    "    if (positive == highest_score):\n",
    "        return \"positive\"\n",
    "    \n",
    "    if (neutre == highest_score):\n",
    "        return \"neutre\"\n",
    "    \n",
    "    if (negative == highest_score):\n",
    "        return \"negative\""
   ]
  },
  {
   "cell_type": "code",
   "execution_count": 73,
   "metadata": {},
   "outputs": [
    {
     "data": {
      "text/plain": [
       "'neutre'"
      ]
     },
     "execution_count": 73,
     "metadata": {},
     "output_type": "execute_result"
    }
   ],
   "source": [
    "# Test the function on your review above:\n",
    "review_rating(review)"
   ]
  },
  {
   "cell_type": "code",
   "execution_count": null,
   "metadata": {},
   "outputs": [],
   "source": []
  }
 ],
 "metadata": {
  "kernelspec": {
   "display_name": "Python 3 (ipykernel)",
   "language": "python",
   "name": "python3"
  },
  "language_info": {
   "codemirror_mode": {
    "name": "ipython",
    "version": 3
   },
   "file_extension": ".py",
   "mimetype": "text/x-python",
   "name": "python",
   "nbconvert_exporter": "python",
   "pygments_lexer": "ipython3",
   "version": "3.7.16"
  }
 },
 "nbformat": 4,
 "nbformat_minor": 2
}
