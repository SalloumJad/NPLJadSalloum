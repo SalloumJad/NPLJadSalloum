{
 "cells": [
  {
   "cell_type": "code",
   "execution_count": 24,
   "id": "42a1aff7",
   "metadata": {},
   "outputs": [],
   "source": [
    "import pandas as pd\n",
    "import spacy\n",
    "import matplotlib.pyplot as plt\n",
    "import re\n",
    "from wordcloud import WordCloud\n",
    "\n",
    "nlp = spacy.load('en_core_web_sm')"
   ]
  },
  {
   "cell_type": "code",
   "execution_count": 25,
   "id": "ee45a87a",
   "metadata": {},
   "outputs": [
    {
     "data": {
      "text/html": [
       "<div>\n",
       "<style scoped>\n",
       "    .dataframe tbody tr th:only-of-type {\n",
       "        vertical-align: middle;\n",
       "    }\n",
       "\n",
       "    .dataframe tbody tr th {\n",
       "        vertical-align: top;\n",
       "    }\n",
       "\n",
       "    .dataframe thead th {\n",
       "        text-align: right;\n",
       "    }\n",
       "</style>\n",
       "<table border=\"1\" class=\"dataframe\">\n",
       "  <thead>\n",
       "    <tr style=\"text-align: right;\">\n",
       "      <th></th>\n",
       "      <th>case_id</th>\n",
       "      <th>case_outcome</th>\n",
       "      <th>case_title</th>\n",
       "      <th>case_text</th>\n",
       "    </tr>\n",
       "  </thead>\n",
       "  <tbody>\n",
       "    <tr>\n",
       "      <th>19388</th>\n",
       "      <td>Case19561</td>\n",
       "      <td>cited</td>\n",
       "      <td>Natuna Pty Limited v Cook [2006] NSWSC 1367</td>\n",
       "      <td>There is a clear line of authority which estab...</td>\n",
       "    </tr>\n",
       "    <tr>\n",
       "      <th>14191</th>\n",
       "      <td>Case14315</td>\n",
       "      <td>referred to</td>\n",
       "      <td>BP Refinery (Westernport) Pty Ltd v Shire of H...</td>\n",
       "      <td>this Court single judges have adopted a more g...</td>\n",
       "    </tr>\n",
       "    <tr>\n",
       "      <th>18499</th>\n",
       "      <td>Case18667</td>\n",
       "      <td>referred to</td>\n",
       "      <td>Webb v Commissioner of Taxation (1993) 44 FCR 312</td>\n",
       "      <td>Attorney-General submits the fact that Waterfo...</td>\n",
       "    </tr>\n",
       "    <tr>\n",
       "      <th>19769</th>\n",
       "      <td>Case19945</td>\n",
       "      <td>distinguished</td>\n",
       "      <td>NT Power Generation Pty Limited v Power and Wa...</td>\n",
       "      <td>It would be a false dichotomy to suggest that ...</td>\n",
       "    </tr>\n",
       "    <tr>\n",
       "      <th>21469</th>\n",
       "      <td>Case21666</td>\n",
       "      <td>cited</td>\n",
       "      <td>Marengo v Daily Sketch and Daily Graphic Ltd [...</td>\n",
       "      <td>Whatever be the position in the years leading ...</td>\n",
       "    </tr>\n",
       "    <tr>\n",
       "      <th>1780</th>\n",
       "      <td>Case1800</td>\n",
       "      <td>considered</td>\n",
       "      <td>Secretary, Department of Social Security v Hal...</td>\n",
       "      <td>The Tribunal member made no express finding in...</td>\n",
       "    </tr>\n",
       "    <tr>\n",
       "      <th>24585</th>\n",
       "      <td>Case24805</td>\n",
       "      <td>applied</td>\n",
       "      <td>Unity Insurance Brokers Pty Ltd v Rocco Pezzan...</td>\n",
       "      <td>In Unity Insurance Brokers Pty Ltd v Rocco Pez...</td>\n",
       "    </tr>\n",
       "    <tr>\n",
       "      <th>2323</th>\n",
       "      <td>Case2346</td>\n",
       "      <td>cited</td>\n",
       "      <td>Freeman &amp;amp; Lockyer v Buckhurst Park Propert...</td>\n",
       "      <td>of actual and ostensible authority in agency l...</td>\n",
       "    </tr>\n",
       "    <tr>\n",
       "      <th>24013</th>\n",
       "      <td>Case24229</td>\n",
       "      <td>considered</td>\n",
       "      <td>29 Equities Ltd v Bank Leumi (UK) Ltd [1986] 1...</td>\n",
       "      <td>In its natural and ordinary meaning in factor ...</td>\n",
       "    </tr>\n",
       "    <tr>\n",
       "      <th>15280</th>\n",
       "      <td>Case15408</td>\n",
       "      <td>followed</td>\n",
       "      <td>Comcare v Etheridge [2006] FCAFC 27 ; (2006) 1...</td>\n",
       "      <td>In Comcare v Etheridge [2006] FCAFC 27 ; (2006...</td>\n",
       "    </tr>\n",
       "  </tbody>\n",
       "</table>\n",
       "</div>"
      ],
      "text/plain": [
       "         case_id   case_outcome  \\\n",
       "19388  Case19561          cited   \n",
       "14191  Case14315    referred to   \n",
       "18499  Case18667    referred to   \n",
       "19769  Case19945  distinguished   \n",
       "21469  Case21666          cited   \n",
       "1780    Case1800     considered   \n",
       "24585  Case24805        applied   \n",
       "2323    Case2346          cited   \n",
       "24013  Case24229     considered   \n",
       "15280  Case15408       followed   \n",
       "\n",
       "                                              case_title  \\\n",
       "19388        Natuna Pty Limited v Cook [2006] NSWSC 1367   \n",
       "14191  BP Refinery (Westernport) Pty Ltd v Shire of H...   \n",
       "18499  Webb v Commissioner of Taxation (1993) 44 FCR 312   \n",
       "19769  NT Power Generation Pty Limited v Power and Wa...   \n",
       "21469  Marengo v Daily Sketch and Daily Graphic Ltd [...   \n",
       "1780   Secretary, Department of Social Security v Hal...   \n",
       "24585  Unity Insurance Brokers Pty Ltd v Rocco Pezzan...   \n",
       "2323   Freeman &amp; Lockyer v Buckhurst Park Propert...   \n",
       "24013  29 Equities Ltd v Bank Leumi (UK) Ltd [1986] 1...   \n",
       "15280  Comcare v Etheridge [2006] FCAFC 27 ; (2006) 1...   \n",
       "\n",
       "                                               case_text  \n",
       "19388  There is a clear line of authority which estab...  \n",
       "14191  this Court single judges have adopted a more g...  \n",
       "18499  Attorney-General submits the fact that Waterfo...  \n",
       "19769  It would be a false dichotomy to suggest that ...  \n",
       "21469  Whatever be the position in the years leading ...  \n",
       "1780   The Tribunal member made no express finding in...  \n",
       "24585  In Unity Insurance Brokers Pty Ltd v Rocco Pez...  \n",
       "2323   of actual and ostensible authority in agency l...  \n",
       "24013  In its natural and ordinary meaning in factor ...  \n",
       "15280  In Comcare v Etheridge [2006] FCAFC 27 ; (2006...  "
      ]
     },
     "execution_count": 25,
     "metadata": {},
     "output_type": "execute_result"
    }
   ],
   "source": [
    "df = pd.read_csv(\"legal_text_classification.csv\")\n",
    "\n",
    "df.sample(10)"
   ]
  },
  {
   "cell_type": "markdown",
   "id": "ea609055",
   "metadata": {},
   "source": [
    "En premier temps, on va convertir ces données en tokens pour mieux pouvoir les analyser."
   ]
  },
  {
   "cell_type": "code",
   "execution_count": 40,
   "id": "62f096f3",
   "metadata": {},
   "outputs": [],
   "source": [
    "def tokenize(doc): \n",
    "    doc = doc.replace(str(nlp.Defaults.stop_words), '')\n",
    "    \n",
    "    docText = \"\"\n",
    "    for line in doc:\n",
    "        line = ' '.join(re.findall(r'\\w{4,}',line))\n",
    "        docText = docText + str(line) + \"\\n\"\n",
    "     \n",
    "    docTokens = nlp(docText)\n",
    "    \n",
    "    return docTokens"
   ]
  },
  {
   "cell_type": "code",
   "execution_count": 27,
   "id": "4e177815",
   "metadata": {},
   "outputs": [],
   "source": [
    "df_cited = df[df[\"case_outcome\"] == \"cited\"]\n",
    "df_applied = df[df[\"case_outcome\"] == \"applied\"]\n",
    "df_followed = df[df[\"case_outcome\"] == \"followed\"]\n",
    "df_referred = df[df[\"case_outcome\"] == \"referred to\"]\n",
    "df_related = df[df[\"case_outcome\"] == \"related\"]\n",
    "df_considered = df[df[\"case_outcome\"] == \"considered\"]\n",
    "df_discussed = df[df[\"case_outcome\"] == \"discussed\"]\n",
    "df_distinguished = df[df[\"case_outcome\"] == \"distinguished\"]\n",
    "df_affirmed = df[df[\"case_outcome\"] == \"affirmed\"]\n",
    "df_approved = df[df[\"case_outcome\"] == \"approved\"]"
   ]
  },
  {
   "cell_type": "code",
   "execution_count": 28,
   "id": "5050f61c",
   "metadata": {},
   "outputs": [],
   "source": [
    "df_cited_text = \"\"\n",
    "for line in df_cited[\"case_text\"]:\n",
    "    df_cited_text = df_cited_text + str(line)"
   ]
  },
  {
   "cell_type": "code",
   "execution_count": 30,
   "id": "b21441e7",
   "metadata": {},
   "outputs": [],
   "source": [
    "df_applied_text = \"\"\n",
    "for line in df_applied[\"case_text\"]:\n",
    "    df_applied_text = df_applied_text + str(line)"
   ]
  },
  {
   "cell_type": "code",
   "execution_count": 31,
   "id": "cb76ebe0",
   "metadata": {},
   "outputs": [],
   "source": [
    "df_followed_text = \"\"\n",
    "for line in df_followed[\"case_text\"]:\n",
    "    df_followed_text = df_followed_text + str(line)"
   ]
  },
  {
   "cell_type": "code",
   "execution_count": 32,
   "id": "35629181",
   "metadata": {},
   "outputs": [],
   "source": [
    "df_referred_text = \"\"\n",
    "for line in df_referred[\"case_text\"]:\n",
    "    df_referred_text = df_referred_text + str(line)"
   ]
  },
  {
   "cell_type": "code",
   "execution_count": 33,
   "id": "e5afe312",
   "metadata": {},
   "outputs": [],
   "source": [
    "df_related_text = \"\"\n",
    "for line in df_related[\"case_text\"]:\n",
    "    df_related_text = df_related_text + str(line)"
   ]
  },
  {
   "cell_type": "code",
   "execution_count": 34,
   "id": "98bf62e9",
   "metadata": {},
   "outputs": [],
   "source": [
    "df_considered_text = \"\"\n",
    "for line in df_considered[\"case_text\"]:\n",
    "    df_considered_text = df_considered_text + str(line)"
   ]
  },
  {
   "cell_type": "code",
   "execution_count": 35,
   "id": "a1d6384e",
   "metadata": {},
   "outputs": [],
   "source": [
    "df_discussed_text = \"\"\n",
    "for line in df_discussed[\"case_text\"]:\n",
    "    df_discussed_text = df_discussed_text + str(line)"
   ]
  },
  {
   "cell_type": "code",
   "execution_count": 36,
   "id": "7b82d072",
   "metadata": {},
   "outputs": [],
   "source": [
    "df_distinguished_text = \"\"\n",
    "for line in df_distinguished[\"case_text\"]:\n",
    "    df_distinguished_text = df_distinguished_text + str(line)"
   ]
  },
  {
   "cell_type": "code",
   "execution_count": 37,
   "id": "9cd7035e",
   "metadata": {},
   "outputs": [],
   "source": [
    "df_affirmed_text = \"\"\n",
    "for line in df_affirmed[\"case_text\"]:\n",
    "    df_affirmed_text = df_affirmed_text + str(line)"
   ]
  },
  {
   "cell_type": "code",
   "execution_count": 38,
   "id": "7dd7c1b1",
   "metadata": {},
   "outputs": [],
   "source": [
    "df_approved_text = \"\"\n",
    "for line in df_approved[\"case_text\"]:\n",
    "    df_approved_text = df_approved_text + str(line)"
   ]
  },
  {
   "cell_type": "code",
   "execution_count": 41,
   "id": "2dcf9f35",
   "metadata": {},
   "outputs": [
    {
     "ename": "ValueError",
     "evalue": "[E088] Text of length 27793659 exceeds maximum of 1000000. The parser and NER models require roughly 1GB of temporary memory per 100,000 characters in the input. This means long texts may cause memory allocation errors. If you're not using the parser or NER, it's probably safe to increase the `nlp.max_length` limit. The limit is in number of characters, so you can check whether your inputs are too long by checking `len(text)`.",
     "output_type": "error",
     "traceback": [
      "\u001b[1;31m---------------------------------------------------------------------------\u001b[0m",
      "\u001b[1;31mValueError\u001b[0m                                Traceback (most recent call last)",
      "\u001b[1;32m~\\AppData\\Local\\Temp\\ipykernel_5556\\4035864303.py\u001b[0m in \u001b[0;36m<module>\u001b[1;34m\u001b[0m\n\u001b[1;32m----> 1\u001b[1;33m \u001b[0mdf_cited_tokens\u001b[0m \u001b[1;33m=\u001b[0m \u001b[0mtokenize\u001b[0m\u001b[1;33m(\u001b[0m\u001b[0mstr\u001b[0m\u001b[1;33m(\u001b[0m\u001b[0mdf_cited_text\u001b[0m\u001b[1;33m)\u001b[0m\u001b[1;33m)\u001b[0m\u001b[1;33m\u001b[0m\u001b[1;33m\u001b[0m\u001b[0m\n\u001b[0m\u001b[0;32m      2\u001b[0m \u001b[0mdf_applied_tokens\u001b[0m \u001b[1;33m=\u001b[0m \u001b[0mtokenize\u001b[0m\u001b[1;33m(\u001b[0m\u001b[0mstr\u001b[0m\u001b[1;33m(\u001b[0m\u001b[0mdf_applied_text\u001b[0m\u001b[1;33m)\u001b[0m\u001b[1;33m)\u001b[0m\u001b[1;33m\u001b[0m\u001b[1;33m\u001b[0m\u001b[0m\n\u001b[0;32m      3\u001b[0m \u001b[0mdf_followed_tokens\u001b[0m \u001b[1;33m=\u001b[0m \u001b[0mtokenize\u001b[0m\u001b[1;33m(\u001b[0m\u001b[0mstr\u001b[0m\u001b[1;33m(\u001b[0m\u001b[0mdf_followed_text\u001b[0m\u001b[1;33m)\u001b[0m\u001b[1;33m)\u001b[0m\u001b[1;33m\u001b[0m\u001b[1;33m\u001b[0m\u001b[0m\n\u001b[0;32m      4\u001b[0m \u001b[0mdf_referred_tokens\u001b[0m \u001b[1;33m=\u001b[0m \u001b[0mtokenize\u001b[0m\u001b[1;33m(\u001b[0m\u001b[0mstr\u001b[0m\u001b[1;33m(\u001b[0m\u001b[0mdf_referred_text\u001b[0m\u001b[1;33m)\u001b[0m\u001b[1;33m)\u001b[0m\u001b[1;33m\u001b[0m\u001b[1;33m\u001b[0m\u001b[0m\n\u001b[0;32m      5\u001b[0m \u001b[0mdf_related_tokens\u001b[0m \u001b[1;33m=\u001b[0m \u001b[0mtokenize\u001b[0m\u001b[1;33m(\u001b[0m\u001b[0mstr\u001b[0m\u001b[1;33m(\u001b[0m\u001b[0mdf_related_text\u001b[0m\u001b[1;33m)\u001b[0m\u001b[1;33m)\u001b[0m\u001b[1;33m\u001b[0m\u001b[1;33m\u001b[0m\u001b[0m\n",
      "\u001b[1;32m~\\AppData\\Local\\Temp\\ipykernel_5556\\2732004585.py\u001b[0m in \u001b[0;36mtokenize\u001b[1;34m(doc)\u001b[0m\n\u001b[0;32m      7\u001b[0m         \u001b[0mdocText\u001b[0m \u001b[1;33m=\u001b[0m \u001b[0mdocText\u001b[0m \u001b[1;33m+\u001b[0m \u001b[0mstr\u001b[0m\u001b[1;33m(\u001b[0m\u001b[0mline\u001b[0m\u001b[1;33m)\u001b[0m \u001b[1;33m+\u001b[0m \u001b[1;34m\"\\n\"\u001b[0m\u001b[1;33m\u001b[0m\u001b[1;33m\u001b[0m\u001b[0m\n\u001b[0;32m      8\u001b[0m \u001b[1;33m\u001b[0m\u001b[0m\n\u001b[1;32m----> 9\u001b[1;33m     \u001b[0mdocTokens\u001b[0m \u001b[1;33m=\u001b[0m \u001b[0mnlp\u001b[0m\u001b[1;33m(\u001b[0m\u001b[0mdocText\u001b[0m\u001b[1;33m)\u001b[0m\u001b[1;33m\u001b[0m\u001b[1;33m\u001b[0m\u001b[0m\n\u001b[0m\u001b[0;32m     10\u001b[0m \u001b[1;33m\u001b[0m\u001b[0m\n\u001b[0;32m     11\u001b[0m     \u001b[1;32mreturn\u001b[0m \u001b[0mdocTokens\u001b[0m\u001b[1;33m\u001b[0m\u001b[1;33m\u001b[0m\u001b[0m\n",
      "\u001b[1;32mC:\\ProgramData\\anaconda3\\envs\\nlp_course\\lib\\site-packages\\spacy\\language.py\u001b[0m in \u001b[0;36m__call__\u001b[1;34m(self, text, disable, component_cfg)\u001b[0m\n\u001b[0;32m   1035\u001b[0m         \u001b[0mDOCS\u001b[0m\u001b[1;33m:\u001b[0m \u001b[0mhttps\u001b[0m\u001b[1;33m:\u001b[0m\u001b[1;33m//\u001b[0m\u001b[0mspacy\u001b[0m\u001b[1;33m.\u001b[0m\u001b[0mio\u001b[0m\u001b[1;33m/\u001b[0m\u001b[0mapi\u001b[0m\u001b[1;33m/\u001b[0m\u001b[0mlanguage\u001b[0m\u001b[1;31m#call\u001b[0m\u001b[1;33m\u001b[0m\u001b[1;33m\u001b[0m\u001b[0m\n\u001b[0;32m   1036\u001b[0m         \"\"\"\n\u001b[1;32m-> 1037\u001b[1;33m         \u001b[0mdoc\u001b[0m \u001b[1;33m=\u001b[0m \u001b[0mself\u001b[0m\u001b[1;33m.\u001b[0m\u001b[0m_ensure_doc\u001b[0m\u001b[1;33m(\u001b[0m\u001b[0mtext\u001b[0m\u001b[1;33m)\u001b[0m\u001b[1;33m\u001b[0m\u001b[1;33m\u001b[0m\u001b[0m\n\u001b[0m\u001b[0;32m   1038\u001b[0m         \u001b[1;32mif\u001b[0m \u001b[0mcomponent_cfg\u001b[0m \u001b[1;32mis\u001b[0m \u001b[1;32mNone\u001b[0m\u001b[1;33m:\u001b[0m\u001b[1;33m\u001b[0m\u001b[1;33m\u001b[0m\u001b[0m\n\u001b[0;32m   1039\u001b[0m             \u001b[0mcomponent_cfg\u001b[0m \u001b[1;33m=\u001b[0m \u001b[1;33m{\u001b[0m\u001b[1;33m}\u001b[0m\u001b[1;33m\u001b[0m\u001b[1;33m\u001b[0m\u001b[0m\n",
      "\u001b[1;32mC:\\ProgramData\\anaconda3\\envs\\nlp_course\\lib\\site-packages\\spacy\\language.py\u001b[0m in \u001b[0;36m_ensure_doc\u001b[1;34m(self, doc_like)\u001b[0m\n\u001b[0;32m   1126\u001b[0m             \u001b[1;32mreturn\u001b[0m \u001b[0mdoc_like\u001b[0m\u001b[1;33m\u001b[0m\u001b[1;33m\u001b[0m\u001b[0m\n\u001b[0;32m   1127\u001b[0m         \u001b[1;32mif\u001b[0m \u001b[0misinstance\u001b[0m\u001b[1;33m(\u001b[0m\u001b[0mdoc_like\u001b[0m\u001b[1;33m,\u001b[0m \u001b[0mstr\u001b[0m\u001b[1;33m)\u001b[0m\u001b[1;33m:\u001b[0m\u001b[1;33m\u001b[0m\u001b[1;33m\u001b[0m\u001b[0m\n\u001b[1;32m-> 1128\u001b[1;33m             \u001b[1;32mreturn\u001b[0m \u001b[0mself\u001b[0m\u001b[1;33m.\u001b[0m\u001b[0mmake_doc\u001b[0m\u001b[1;33m(\u001b[0m\u001b[0mdoc_like\u001b[0m\u001b[1;33m)\u001b[0m\u001b[1;33m\u001b[0m\u001b[1;33m\u001b[0m\u001b[0m\n\u001b[0m\u001b[0;32m   1129\u001b[0m         \u001b[1;32mif\u001b[0m \u001b[0misinstance\u001b[0m\u001b[1;33m(\u001b[0m\u001b[0mdoc_like\u001b[0m\u001b[1;33m,\u001b[0m \u001b[0mbytes\u001b[0m\u001b[1;33m)\u001b[0m\u001b[1;33m:\u001b[0m\u001b[1;33m\u001b[0m\u001b[1;33m\u001b[0m\u001b[0m\n\u001b[0;32m   1130\u001b[0m             \u001b[1;32mreturn\u001b[0m \u001b[0mDoc\u001b[0m\u001b[1;33m(\u001b[0m\u001b[0mself\u001b[0m\u001b[1;33m.\u001b[0m\u001b[0mvocab\u001b[0m\u001b[1;33m)\u001b[0m\u001b[1;33m.\u001b[0m\u001b[0mfrom_bytes\u001b[0m\u001b[1;33m(\u001b[0m\u001b[0mdoc_like\u001b[0m\u001b[1;33m)\u001b[0m\u001b[1;33m\u001b[0m\u001b[1;33m\u001b[0m\u001b[0m\n",
      "\u001b[1;32mC:\\ProgramData\\anaconda3\\envs\\nlp_course\\lib\\site-packages\\spacy\\language.py\u001b[0m in \u001b[0;36mmake_doc\u001b[1;34m(self, text)\u001b[0m\n\u001b[0;32m   1116\u001b[0m         \u001b[1;32mif\u001b[0m \u001b[0mlen\u001b[0m\u001b[1;33m(\u001b[0m\u001b[0mtext\u001b[0m\u001b[1;33m)\u001b[0m \u001b[1;33m>\u001b[0m \u001b[0mself\u001b[0m\u001b[1;33m.\u001b[0m\u001b[0mmax_length\u001b[0m\u001b[1;33m:\u001b[0m\u001b[1;33m\u001b[0m\u001b[1;33m\u001b[0m\u001b[0m\n\u001b[0;32m   1117\u001b[0m             raise ValueError(\n\u001b[1;32m-> 1118\u001b[1;33m                 \u001b[0mErrors\u001b[0m\u001b[1;33m.\u001b[0m\u001b[0mE088\u001b[0m\u001b[1;33m.\u001b[0m\u001b[0mformat\u001b[0m\u001b[1;33m(\u001b[0m\u001b[0mlength\u001b[0m\u001b[1;33m=\u001b[0m\u001b[0mlen\u001b[0m\u001b[1;33m(\u001b[0m\u001b[0mtext\u001b[0m\u001b[1;33m)\u001b[0m\u001b[1;33m,\u001b[0m \u001b[0mmax_length\u001b[0m\u001b[1;33m=\u001b[0m\u001b[0mself\u001b[0m\u001b[1;33m.\u001b[0m\u001b[0mmax_length\u001b[0m\u001b[1;33m)\u001b[0m\u001b[1;33m\u001b[0m\u001b[1;33m\u001b[0m\u001b[0m\n\u001b[0m\u001b[0;32m   1119\u001b[0m             )\n\u001b[0;32m   1120\u001b[0m         \u001b[1;32mreturn\u001b[0m \u001b[0mself\u001b[0m\u001b[1;33m.\u001b[0m\u001b[0mtokenizer\u001b[0m\u001b[1;33m(\u001b[0m\u001b[0mtext\u001b[0m\u001b[1;33m)\u001b[0m\u001b[1;33m\u001b[0m\u001b[1;33m\u001b[0m\u001b[0m\n",
      "\u001b[1;31mValueError\u001b[0m: [E088] Text of length 27793659 exceeds maximum of 1000000. The parser and NER models require roughly 1GB of temporary memory per 100,000 characters in the input. This means long texts may cause memory allocation errors. If you're not using the parser or NER, it's probably safe to increase the `nlp.max_length` limit. The limit is in number of characters, so you can check whether your inputs are too long by checking `len(text)`."
     ]
    }
   ],
   "source": [
    "# Même avec séparations, les données d'origines sont trop lourdes à chaque ligne pour que l'execution se termine...\n",
    "\n",
    "df_cited_tokens = tokenize(str(df_cited_text))\n",
    "df_applied_tokens = tokenize(str(df_applied_text))\n",
    "df_followed_tokens = tokenize(str(df_followed_text))\n",
    "df_referred_tokens = tokenize(str(df_referred_text))\n",
    "df_related_tokens = tokenize(str(df_related_text))\n",
    "df_considered_tokens = tokenize(str(df_considered_text))\n",
    "df_discussed_tokens = tokenize(str(df_discussed_text))\n",
    "df_distinguished_tokens = tokenize(str(df_distinguished_text))\n",
    "df_affirmed_tokens = tokenize(str(df_affirmed_text))\n",
    "df_approved_tokens = tokenize(str(df_approved_text))"
   ]
  }
 ],
 "metadata": {
  "kernelspec": {
   "display_name": "Python 3 (ipykernel)",
   "language": "python",
   "name": "python3"
  },
  "language_info": {
   "codemirror_mode": {
    "name": "ipython",
    "version": 3
   },
   "file_extension": ".py",
   "mimetype": "text/x-python",
   "name": "python",
   "nbconvert_exporter": "python",
   "pygments_lexer": "ipython3",
   "version": "3.7.16"
  }
 },
 "nbformat": 4,
 "nbformat_minor": 5
}
